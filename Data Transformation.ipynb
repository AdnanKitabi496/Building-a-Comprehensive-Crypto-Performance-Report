{
 "cells": [
  {
   "cell_type": "markdown",
   "id": "6947ceb7",
   "metadata": {},
   "source": [
    "# Assets"
   ]
  },
  {
   "cell_type": "code",
   "execution_count": 6,
   "id": "75350434",
   "metadata": {},
   "outputs": [
    {
     "data": {
      "application/vnd.jupyter.widget-view+json": {
       "model_id": "134964f330e64372a096a6120432d9ec",
       "version_major": 2,
       "version_minor": 0
      },
      "text/plain": [
       "Processing asset files:   0%|          | 0/29 [00:00<?, ?it/s]"
      ]
     },
     "metadata": {},
     "output_type": "display_data"
    },
    {
     "data": {
      "application/vnd.jupyter.widget-view+json": {
       "model_id": "0f0d2a92c92f410db04febf75a7c6305",
       "version_major": 2,
       "version_minor": 0
      },
      "text/plain": [
       "Processing Moving Average:   0%|          | 0/12 [00:00<?, ?it/s]"
      ]
     },
     "metadata": {},
     "output_type": "display_data"
    },
    {
     "data": {
      "application/vnd.jupyter.widget-view+json": {
       "model_id": "e70e2305d05a4c9c9cbd04176221c912",
       "version_major": 2,
       "version_minor": 0
      },
      "text/plain": [
       "Processing Moving Average:   0%|          | 0/24 [00:00<?, ?it/s]"
      ]
     },
     "metadata": {},
     "output_type": "display_data"
    },
    {
     "data": {
      "application/vnd.jupyter.widget-view+json": {
       "model_id": "3c1f168d3c6d45ef9f30ca9cad6cddc7",
       "version_major": 2,
       "version_minor": 0
      },
      "text/plain": [
       "Processing Moving Average:   0%|          | 0/12 [00:00<?, ?it/s]"
      ]
     },
     "metadata": {},
     "output_type": "display_data"
    },
    {
     "data": {
      "application/vnd.jupyter.widget-view+json": {
       "model_id": "7f8f2a30020643d4b767e58ae59470fd",
       "version_major": 2,
       "version_minor": 0
      },
      "text/plain": [
       "Processing Moving Average:   0%|          | 0/14 [00:00<?, ?it/s]"
      ]
     },
     "metadata": {},
     "output_type": "display_data"
    },
    {
     "data": {
      "application/vnd.jupyter.widget-view+json": {
       "model_id": "0edbe357cc5e4596913c845564fc679e",
       "version_major": 2,
       "version_minor": 0
      },
      "text/plain": [
       "Processing Moving Average:   0%|          | 0/13 [00:00<?, ?it/s]"
      ]
     },
     "metadata": {},
     "output_type": "display_data"
    },
    {
     "data": {
      "application/vnd.jupyter.widget-view+json": {
       "model_id": "47068a8b5868483e87f9882d1d9176ed",
       "version_major": 2,
       "version_minor": 0
      },
      "text/plain": [
       "Processing Moving Average:   0%|          | 0/23 [00:00<?, ?it/s]"
      ]
     },
     "metadata": {},
     "output_type": "display_data"
    },
    {
     "data": {
      "application/vnd.jupyter.widget-view+json": {
       "model_id": "c72d752446ed4a91b2dcff0a08b92b7e",
       "version_major": 2,
       "version_minor": 0
      },
      "text/plain": [
       "Processing Moving Average:   0%|          | 0/23 [00:00<?, ?it/s]"
      ]
     },
     "metadata": {},
     "output_type": "display_data"
    },
    {
     "data": {
      "application/vnd.jupyter.widget-view+json": {
       "model_id": "71a284ecb7f44abc9dc3547fc55fac92",
       "version_major": 2,
       "version_minor": 0
      },
      "text/plain": [
       "Processing Moving Average:   0%|          | 0/14 [00:00<?, ?it/s]"
      ]
     },
     "metadata": {},
     "output_type": "display_data"
    },
    {
     "data": {
      "application/vnd.jupyter.widget-view+json": {
       "model_id": "681ba605c2d945839a7538a6163f0df8",
       "version_major": 2,
       "version_minor": 0
      },
      "text/plain": [
       "Processing Moving Average:   0%|          | 0/19 [00:00<?, ?it/s]"
      ]
     },
     "metadata": {},
     "output_type": "display_data"
    },
    {
     "data": {
      "application/vnd.jupyter.widget-view+json": {
       "model_id": "3d26ea42590e4eec901afee10517100b",
       "version_major": 2,
       "version_minor": 0
      },
      "text/plain": [
       "Processing Moving Average:   0%|          | 0/22 [00:00<?, ?it/s]"
      ]
     },
     "metadata": {},
     "output_type": "display_data"
    },
    {
     "data": {
      "application/vnd.jupyter.widget-view+json": {
       "model_id": "4dead669bd21449c933747755860eb72",
       "version_major": 2,
       "version_minor": 0
      },
      "text/plain": [
       "Processing Moving Average:   0%|          | 0/10 [00:00<?, ?it/s]"
      ]
     },
     "metadata": {},
     "output_type": "display_data"
    },
    {
     "data": {
      "application/vnd.jupyter.widget-view+json": {
       "model_id": "1cf30feca0f84863a2013553479877de",
       "version_major": 2,
       "version_minor": 0
      },
      "text/plain": [
       "Processing Moving Average:   0%|          | 0/15 [00:00<?, ?it/s]"
      ]
     },
     "metadata": {},
     "output_type": "display_data"
    },
    {
     "data": {
      "application/vnd.jupyter.widget-view+json": {
       "model_id": "b29aec78942a4b1fae44104a2e59680c",
       "version_major": 2,
       "version_minor": 0
      },
      "text/plain": [
       "Processing Moving Average:   0%|          | 0/10 [00:00<?, ?it/s]"
      ]
     },
     "metadata": {},
     "output_type": "display_data"
    },
    {
     "data": {
      "application/vnd.jupyter.widget-view+json": {
       "model_id": "fc3c2365ac754738bd4030392986ddf6",
       "version_major": 2,
       "version_minor": 0
      },
      "text/plain": [
       "Processing Moving Average:   0%|          | 0/13 [00:00<?, ?it/s]"
      ]
     },
     "metadata": {},
     "output_type": "display_data"
    },
    {
     "data": {
      "application/vnd.jupyter.widget-view+json": {
       "model_id": "7dbe3102b4334795b5c12cac44ba9e2d",
       "version_major": 2,
       "version_minor": 0
      },
      "text/plain": [
       "Processing Moving Average:   0%|          | 0/18 [00:00<?, ?it/s]"
      ]
     },
     "metadata": {},
     "output_type": "display_data"
    },
    {
     "data": {
      "application/vnd.jupyter.widget-view+json": {
       "model_id": "e50bb355bad14722a2107743ce3a2d32",
       "version_major": 2,
       "version_minor": 0
      },
      "text/plain": [
       "Processing Moving Average:   0%|          | 0/21 [00:00<?, ?it/s]"
      ]
     },
     "metadata": {},
     "output_type": "display_data"
    },
    {
     "data": {
      "application/vnd.jupyter.widget-view+json": {
       "model_id": "141d3c8c29ac4540b930abcb91104c2d",
       "version_major": 2,
       "version_minor": 0
      },
      "text/plain": [
       "Processing Moving Average:   0%|          | 0/15 [00:00<?, ?it/s]"
      ]
     },
     "metadata": {},
     "output_type": "display_data"
    },
    {
     "data": {
      "application/vnd.jupyter.widget-view+json": {
       "model_id": "5ebca41b466d415799eef95caa884063",
       "version_major": 2,
       "version_minor": 0
      },
      "text/plain": [
       "Processing Moving Average:   0%|          | 0/12 [00:00<?, ?it/s]"
      ]
     },
     "metadata": {},
     "output_type": "display_data"
    },
    {
     "data": {
      "application/vnd.jupyter.widget-view+json": {
       "model_id": "deea84ccb4b544bca62bbb2a6ba47c6b",
       "version_major": 2,
       "version_minor": 0
      },
      "text/plain": [
       "Processing Moving Average:   0%|          | 0/24 [00:00<?, ?it/s]"
      ]
     },
     "metadata": {},
     "output_type": "display_data"
    },
    {
     "data": {
      "application/vnd.jupyter.widget-view+json": {
       "model_id": "7da8398cc9a549d1b51752bc9267320c",
       "version_major": 2,
       "version_minor": 0
      },
      "text/plain": [
       "Processing Moving Average:   0%|          | 0/15 [00:00<?, ?it/s]"
      ]
     },
     "metadata": {},
     "output_type": "display_data"
    },
    {
     "data": {
      "application/vnd.jupyter.widget-view+json": {
       "model_id": "4b79f481089049668c8b46794be9733d",
       "version_major": 2,
       "version_minor": 0
      },
      "text/plain": [
       "Processing Moving Average:   0%|          | 0/11 [00:00<?, ?it/s]"
      ]
     },
     "metadata": {},
     "output_type": "display_data"
    },
    {
     "data": {
      "application/vnd.jupyter.widget-view+json": {
       "model_id": "89f9a905c97843fd8db6f5e40c5015be",
       "version_major": 2,
       "version_minor": 0
      },
      "text/plain": [
       "Processing Moving Average:   0%|          | 0/19 [00:00<?, ?it/s]"
      ]
     },
     "metadata": {},
     "output_type": "display_data"
    },
    {
     "data": {
      "application/vnd.jupyter.widget-view+json": {
       "model_id": "b12ea4837f9546c6ad1f75a73286d30c",
       "version_major": 2,
       "version_minor": 0
      },
      "text/plain": [
       "Processing Moving Average:   0%|          | 0/15 [00:00<?, ?it/s]"
      ]
     },
     "metadata": {},
     "output_type": "display_data"
    },
    {
     "data": {
      "application/vnd.jupyter.widget-view+json": {
       "model_id": "807199bc15db4e1b9b7a789fbdc699fa",
       "version_major": 2,
       "version_minor": 0
      },
      "text/plain": [
       "Processing Moving Average:   0%|          | 0/24 [00:00<?, ?it/s]"
      ]
     },
     "metadata": {},
     "output_type": "display_data"
    },
    {
     "data": {
      "application/vnd.jupyter.widget-view+json": {
       "model_id": "da396c2a92d84a35a8d420a2ab4bacd5",
       "version_major": 2,
       "version_minor": 0
      },
      "text/plain": [
       "Processing Moving Average:   0%|          | 0/8 [00:00<?, ?it/s]"
      ]
     },
     "metadata": {},
     "output_type": "display_data"
    },
    {
     "data": {
      "application/vnd.jupyter.widget-view+json": {
       "model_id": "68b7660c18414c1c817f98fe44d9aa65",
       "version_major": 2,
       "version_minor": 0
      },
      "text/plain": [
       "Processing Moving Average:   0%|          | 0/25 [00:00<?, ?it/s]"
      ]
     },
     "metadata": {},
     "output_type": "display_data"
    },
    {
     "data": {
      "application/vnd.jupyter.widget-view+json": {
       "model_id": "41714be6b6d14fa3bdfb1293d3a54511",
       "version_major": 2,
       "version_minor": 0
      },
      "text/plain": [
       "Processing Moving Average:   0%|          | 0/15 [00:00<?, ?it/s]"
      ]
     },
     "metadata": {},
     "output_type": "display_data"
    },
    {
     "data": {
      "application/vnd.jupyter.widget-view+json": {
       "model_id": "70585a722d4648c48c1d92305749dfdd",
       "version_major": 2,
       "version_minor": 0
      },
      "text/plain": [
       "Processing Moving Average:   0%|          | 0/21 [00:00<?, ?it/s]"
      ]
     },
     "metadata": {},
     "output_type": "display_data"
    },
    {
     "data": {
      "application/vnd.jupyter.widget-view+json": {
       "model_id": "aa5963128e854a26bb09bed570006b39",
       "version_major": 2,
       "version_minor": 0
      },
      "text/plain": [
       "Processing Moving Average:   0%|          | 0/19 [00:00<?, ?it/s]"
      ]
     },
     "metadata": {},
     "output_type": "display_data"
    }
   ],
   "source": [
    "import pandas as pd\n",
    "from datetime import datetime\n",
    "from tqdm.notebook import tqdm\n",
    "\n",
    "df = pd.read_csv(r'D:\\Users\\91709\\Downloads\\Work\\UpWork\\2023-24\\Jamie\\database.csv')\n",
    "\n",
    "df['Date'] = pd.to_datetime(df['date'], format='%Y-%m-%d')\n",
    "df['Date'] = df['Date'].dt.date\n",
    "\n",
    "asset= df['asset']\n",
    "unique_asset = list(set(asset))\n",
    "\n",
    "for i in tqdm(unique_asset, desc='Processing asset files'):\n",
    "    filter_df = df[df['asset'] == i]\n",
    "    \n",
    "    df_pivoted = filter_df.pivot_table(index='Date', columns='metric', values='val', aggfunc='sum').reset_index()\n",
    "    df_pivoted = df_pivoted.sort_values(by='Date')\n",
    "    \n",
    "    column_list = df_pivoted.columns.tolist()\n",
    "    column_list.remove('Date')\n",
    "    \n",
    "    for j in tqdm(column_list, desc= 'Processing Moving Average'):\n",
    "        df_pivoted[j + '_14D'] = df_pivoted[j].rolling(window=14).mean()\n",
    "        df_pivoted[j + '_30D'] = df_pivoted[j].rolling(window=30).mean()\n",
    "        \n",
    "    df_pivoted.to_excel(i + '.xlsx', index = False)"
   ]
  },
  {
   "cell_type": "markdown",
   "id": "6dbcf60b",
   "metadata": {},
   "source": [
    "# Metrics"
   ]
  },
  {
   "cell_type": "code",
   "execution_count": 7,
   "id": "72259b91",
   "metadata": {},
   "outputs": [
    {
     "data": {
      "application/vnd.jupyter.widget-view+json": {
       "model_id": "ad78fb159c8a41e1a5651663eb3c6779",
       "version_major": 2,
       "version_minor": 0
      },
      "text/plain": [
       "Processing Moving Average:   0%|          | 0/26 [00:00<?, ?it/s]"
      ]
     },
     "metadata": {},
     "output_type": "display_data"
    }
   ],
   "source": [
    "metric = df['metric']\n",
    "unique_metric = list(set(metric))\n",
    "\n",
    "\n",
    "df_pivoted = df.pivot_table(index='Date', columns='metric', values='val', aggfunc='sum').reset_index()\n",
    "df_pivoted = df_pivoted.sort_values(by='Date')\n",
    "\n",
    "column_list = df_pivoted.columns.tolist()\n",
    "column_list.remove('Date')\n",
    "\n",
    "\n",
    "for i in tqdm(column_list, desc= 'Processing Moving Average'):   \n",
    "    df_pivoted[i + '_14D'] = df_pivoted[i].rolling(window=14).mean()\n",
    "    df_pivoted[i + '_30D'] = df_pivoted[i].rolling(window=30).mean()\n",
    "    \n",
    "df_pivoted.to_excel('aggregate.xlsx', index= False)"
   ]
  },
  {
   "cell_type": "code",
   "execution_count": 5,
   "id": "4ce72961",
   "metadata": {},
   "outputs": [
    {
     "data": {
      "text/html": [
       "<div>\n",
       "<style scoped>\n",
       "    .dataframe tbody tr th:only-of-type {\n",
       "        vertical-align: middle;\n",
       "    }\n",
       "\n",
       "    .dataframe tbody tr th {\n",
       "        vertical-align: top;\n",
       "    }\n",
       "\n",
       "    .dataframe thead th {\n",
       "        text-align: right;\n",
       "    }\n",
       "</style>\n",
       "<table border=\"1\" class=\"dataframe\">\n",
       "  <thead>\n",
       "    <tr style=\"text-align: right;\">\n",
       "      <th></th>\n",
       "      <th>asset</th>\n",
       "      <th>metric</th>\n",
       "      <th>date</th>\n",
       "      <th>val</th>\n",
       "      <th>Date</th>\n",
       "    </tr>\n",
       "  </thead>\n",
       "  <tbody>\n",
       "    <tr>\n",
       "      <th>837619</th>\n",
       "      <td>tron</td>\n",
       "      <td>tt_pf_circulating</td>\n",
       "      <td>2024-03-15</td>\n",
       "      <td>6.180229</td>\n",
       "      <td>2024-03-15</td>\n",
       "    </tr>\n",
       "    <tr>\n",
       "      <th>837620</th>\n",
       "      <td>tron</td>\n",
       "      <td>tt_pf_fully_diluted</td>\n",
       "      <td>2024-03-12</td>\n",
       "      <td>6.476956</td>\n",
       "      <td>2024-03-12</td>\n",
       "    </tr>\n",
       "    <tr>\n",
       "      <th>837621</th>\n",
       "      <td>tron</td>\n",
       "      <td>tt_pf_fully_diluted</td>\n",
       "      <td>2024-03-13</td>\n",
       "      <td>6.433910</td>\n",
       "      <td>2024-03-13</td>\n",
       "    </tr>\n",
       "    <tr>\n",
       "      <th>837622</th>\n",
       "      <td>tron</td>\n",
       "      <td>tt_pf_fully_diluted</td>\n",
       "      <td>2024-03-14</td>\n",
       "      <td>6.237355</td>\n",
       "      <td>2024-03-14</td>\n",
       "    </tr>\n",
       "    <tr>\n",
       "      <th>837623</th>\n",
       "      <td>tron</td>\n",
       "      <td>tt_pf_fully_diluted</td>\n",
       "      <td>2024-03-15</td>\n",
       "      <td>6.056543</td>\n",
       "      <td>2024-03-15</td>\n",
       "    </tr>\n",
       "  </tbody>\n",
       "</table>\n",
       "</div>"
      ],
      "text/plain": [
       "       asset               metric        date       val        Date\n",
       "837619  tron    tt_pf_circulating  2024-03-15  6.180229  2024-03-15\n",
       "837620  tron  tt_pf_fully_diluted  2024-03-12  6.476956  2024-03-12\n",
       "837621  tron  tt_pf_fully_diluted  2024-03-13  6.433910  2024-03-13\n",
       "837622  tron  tt_pf_fully_diluted  2024-03-14  6.237355  2024-03-14\n",
       "837623  tron  tt_pf_fully_diluted  2024-03-15  6.056543  2024-03-15"
      ]
     },
     "execution_count": 5,
     "metadata": {},
     "output_type": "execute_result"
    }
   ],
   "source": [
    "df.tail(5)"
   ]
  },
  {
   "cell_type": "code",
   "execution_count": null,
   "id": "244c8da9",
   "metadata": {},
   "outputs": [],
   "source": []
  }
 ],
 "metadata": {
  "kernelspec": {
   "display_name": "Python 3 (ipykernel)",
   "language": "python",
   "name": "python3"
  },
  "language_info": {
   "codemirror_mode": {
    "name": "ipython",
    "version": 3
   },
   "file_extension": ".py",
   "mimetype": "text/x-python",
   "name": "python",
   "nbconvert_exporter": "python",
   "pygments_lexer": "ipython3",
   "version": "3.11.5"
  }
 },
 "nbformat": 4,
 "nbformat_minor": 5
}
